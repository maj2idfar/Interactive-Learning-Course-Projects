{
 "cells": [
  {
   "cell_type": "markdown",
   "metadata": {},
   "source": [
    "## Config"
   ]
  },
  {
   "cell_type": "code",
   "execution_count": 1,
   "metadata": {},
   "outputs": [],
   "source": [
    "import numpy as np\n",
    "import random\n",
    "import math"
   ]
  },
  {
   "cell_type": "markdown",
   "metadata": {},
   "source": [
    "## Rewards and Policies"
   ]
  },
  {
   "cell_type": "markdown",
   "metadata": {},
   "source": [
    "### Rewards"
   ]
  },
  {
   "cell_type": "code",
   "execution_count": 2,
   "metadata": {},
   "outputs": [],
   "source": [
    "def create_reward_function(num_actions, means, variances):\n",
    "\n",
    "    if len(means) != num_actions or len(variances) != num_actions:\n",
    "        raise ValueError(\"Length of means and variances should be equal to num_actions.\")\n",
    "\n",
    "    def reward_function(action):\n",
    "        action -= 1\n",
    "\n",
    "        if action < 0 or action >= num_actions:\n",
    "            raise ValueError(\"Invalid action index.\")\n",
    "\n",
    "        return np.random.normal(means[action], variances[action])\n",
    "\n",
    "    return reward_function"
   ]
  },
  {
   "cell_type": "markdown",
   "metadata": {},
   "source": [
    "### Policies"
   ]
  },
  {
   "cell_type": "markdown",
   "metadata": {},
   "source": [
    "Random:"
   ]
  },
  {
   "cell_type": "code",
   "execution_count": 3,
   "metadata": {},
   "outputs": [],
   "source": [
    "def random_bandit_policy(num_actions):\n",
    "    actions = range(1, num_actions + 1)\n",
    "    action = random.choice(actions)\n",
    "\n",
    "    return action"
   ]
  },
  {
   "cell_type": "markdown",
   "metadata": {},
   "source": [
    "Epsilon greedy:"
   ]
  },
  {
   "cell_type": "code",
   "execution_count": 4,
   "metadata": {},
   "outputs": [],
   "source": [
    "def epsilon_greedy_policy(q_values, epsilon):\n",
    "    num_actions = len(q_values)\n",
    "\n",
    "    if np.random.rand() < epsilon:\n",
    "        action = np.random.choice(num_actions)  # Explore\n",
    "    else:\n",
    "        action = np.argmax(q_values)  # Exploit (pick the action with the highest Q-value)\n",
    "\n",
    "    action += 1\n",
    "\n",
    "    return action"
   ]
  },
  {
   "cell_type": "markdown",
   "metadata": {},
   "source": [
    "UCB:"
   ]
  },
  {
   "cell_type": "code",
   "execution_count": 5,
   "metadata": {},
   "outputs": [],
   "source": [
    "def ucb_policy(q_values, action_counts, total_steps, c=2):\n",
    "    num_actions = len(q_values)\n",
    "    ucb_values = [0] * num_actions\n",
    "    \n",
    "    for i in range(num_actions):\n",
    "        if action_counts[i] > 0:\n",
    "            exploitation = q_values[i]\n",
    "            exploration = c * np.sqrt(np.log(total_steps + 1) / action_counts[i])\n",
    "            ucb_values[i] = exploitation + exploration\n",
    "        else:\n",
    "            ucb_values[i] = float('inf')  # Force exploration if action hasn't been taken yet\n",
    "\n",
    "    action = np.argmax(ucb_values) + 1\n",
    "\n",
    "    return action"
   ]
  },
  {
   "cell_type": "markdown",
   "metadata": {},
   "source": [
    "Thompson Sampling:"
   ]
  },
  {
   "cell_type": "code",
   "execution_count": 6,
   "metadata": {},
   "outputs": [],
   "source": [
    "def thompson_sampling_policy(action_successes, action_failures):\n",
    "    num_actions = len(action_successes)\n",
    "    samples = [np.random.beta(action_successes[i] + 1, action_failures[i] + 1) for i in range(num_actions)]\n",
    "    \n",
    "    action = np.argmax(samples) + 1\n",
    "\n",
    "    return action"
   ]
  },
  {
   "cell_type": "markdown",
   "metadata": {},
   "source": [
    "## Agent"
   ]
  },
  {
   "cell_type": "code",
   "execution_count": 204,
   "metadata": {},
   "outputs": [],
   "source": [
    "class RL_Agent:\n",
    "    def __init__(self, num_actions, num_agents, actions_means, actions_vars, reward_prob, policy, epsilon, beta, social = False):\n",
    "        self.num_actions = num_actions\n",
    "        self.num_agents = num_agents\n",
    "        self.social = social\n",
    "        self.reward_prob = reward_prob\n",
    "\n",
    "        self.actions_means = actions_means\n",
    "        self.reward_function = create_reward_function(num_actions, actions_means, actions_vars)\n",
    "\n",
    "        self.policy = policy\n",
    "\n",
    "        self.beta = beta\n",
    "        self.beta_decay_rate = 0.99\n",
    "        self.min_beta = 0.01\n",
    "        \n",
    "        self.epsilon = epsilon  # for epsilon greedy policy\n",
    "        self.epsilon_decay_rate = 0.998  # Decay rate for epsilon\n",
    "        self.min_epsilon = 0.05  # Minimum epsilon value\n",
    "\n",
    "        self.q_values_own = np.zeros(num_actions) \n",
    "        self.action_counts_own = np.zeros(num_actions)\n",
    "\n",
    "        self.rewards = []\n",
    "        self.epsilons = []\n",
    "        self.betas = []\n",
    "    \n",
    "    def take_action(self):\n",
    "        # Decay epsilon over time\n",
    "        self.beta = max(self.min_beta, self.beta * self.beta_decay_rate)\n",
    "        self.betas.append(self.beta)\n",
    "\n",
    "        match self.policy:\n",
    "            case \"random bandit\":\n",
    "                return random_bandit_policy(self.num_actions)\n",
    "\n",
    "            case \"epsilon greedy\":\n",
    "                # Decay epsilon over time\n",
    "                self.epsilon = max(self.min_epsilon, self.epsilon * self.epsilon_decay_rate)\n",
    "                self.epsilons.append(self.epsilon)\n",
    "                \n",
    "                if self.social:\n",
    "                    q_values = (1-self.beta)*self.q_values_own + self.beta*self.aggregated_policy\n",
    "                    return epsilon_greedy_policy(q_values, self.epsilon)\n",
    "                \n",
    "                return epsilon_greedy_policy(self.q_values_own, self.epsilon)\n",
    "\n",
    "    def social_learning(self, agents_actions):\n",
    "        self.agents_policies = []\n",
    "\n",
    "        for agent_idx in range(self.num_agents):\n",
    "            policy = np.zeros(self.num_actions)\n",
    "\n",
    "            # For each action in the past 30 actions of the agent\n",
    "            for action in agents_actions[agent_idx]:\n",
    "                policy[action - 1] += 1\n",
    "\n",
    "            policy /= np.sum(policy)\n",
    "\n",
    "            self.agents_policies.append(policy)\n",
    "\n",
    "        self.aggregate_policy()\n",
    "\n",
    "    def aggregate_policy(self):\n",
    "        # Start by initializing an array for the aggregated policy to 0\n",
    "        self.aggregated_policy = np.zeros(self.num_actions)\n",
    "\n",
    "        # Sum the policies of all agents\n",
    "        for policy in self.agents_policies:\n",
    "            self.aggregated_policy += policy\n",
    "\n",
    "        # Compute the average (divide by number of agents)\n",
    "        self.aggregated_policy /= self.num_agents\n",
    "    \n",
    "    def receive_reward(self, action):\n",
    "        # Reward received with probability reward_prob\n",
    "        if np.random.rand() < self.reward_prob:\n",
    "            reward = self.reward_function(action)\n",
    "            self.rewards.append(reward)\n",
    "            \n",
    "            self.update_q_values(action, reward)\n",
    "            \n",
    "        else:\n",
    "            self.rewards.append(0) # no reward\n",
    "    \n",
    "    def update_q_values(self, action, reward):\n",
    "        self.action_counts_own[action-1] += 1\n",
    "        self.q_values_own[action-1] += (reward - self.q_values_own[action-1]) / self.action_counts_own[action-1]"
   ]
  },
  {
   "cell_type": "markdown",
   "metadata": {},
   "source": [
    "## Run"
   ]
  },
  {
   "cell_type": "code",
   "execution_count": 88,
   "metadata": {},
   "outputs": [],
   "source": [
    "def run(num_steps, agent):\n",
    "    for step in range(num_steps):\n",
    "        action = agent.take_action()\n",
    "        agent.receive_reward(action)\n",
    "    \n",
    "    return agent.rewards"
   ]
  },
  {
   "cell_type": "code",
   "execution_count": 58,
   "metadata": {},
   "outputs": [],
   "source": [
    "def cumulative_reward(X):\n",
    "    sum_X = []\n",
    "    for i in range(len(X)):\n",
    "        sum_X.append(sum(X[:i]))\n",
    "    return sum_X"
   ]
  },
  {
   "cell_type": "code",
   "execution_count": 94,
   "metadata": {},
   "outputs": [],
   "source": [
    "num_actions = 5\n",
    "num_agents = 10\n",
    "\n",
    "actions_means = [1, 2, 3, 4, 7]\n",
    "\n",
    "actions_vars = [0.1, 0.2, 0.3, 0.4, 0.7]\n",
    "\n",
    "agents_actions = []\n",
    "for i in range(num_agents):\n",
    "    agents_actions.append([])\n",
    "    for j in range(30):\n",
    "        agents_actions[i].append(random_bandit_policy(num_actions))"
   ]
  },
  {
   "cell_type": "code",
   "execution_count": 201,
   "metadata": {},
   "outputs": [],
   "source": [
    "num_steps = 2000\n",
    "\n",
    "agent_social = RL_Agent(\n",
    "    num_actions,\n",
    "    num_agents,\n",
    "    actions_means, \n",
    "    actions_vars, \n",
    "    reward_prob=0.3,\n",
    "    policy='epsilon greedy',\n",
    "    epsilon=0.3,\n",
    "    beta=0.8,\n",
    "    social=True\n",
    ")\n",
    "\n",
    "agent_casual = RL_Agent(\n",
    "    num_actions,\n",
    "    num_agents,\n",
    "    actions_means, \n",
    "    actions_vars, \n",
    "    reward_prob=0.3,\n",
    "    policy='epsilon greedy',\n",
    "    epsilon=0.3,\n",
    "    beta=0.8,\n",
    "    social=False\n",
    ")\n",
    "\n",
    "agent_social.social_learning(agents_actions)\n",
    "rewards_social = run(num_steps, agent_social)\n",
    "\n",
    "rewards_casual = run(num_steps, agent_casual)"
   ]
  },
  {
   "cell_type": "code",
   "execution_count": 202,
   "metadata": {},
   "outputs": [],
   "source": [
    "c_rewards_social = cumulative_reward(rewards_social)\n",
    "c_rewards_casual = cumulative_reward(rewards_casual)"
   ]
  },
  {
   "cell_type": "markdown",
   "metadata": {},
   "source": [
    "## Plots"
   ]
  },
  {
   "cell_type": "code",
   "execution_count": 206,
   "metadata": {},
   "outputs": [
    {
     "data": {
      "image/png": "[encoded data removed]",
      "text/plain": [
       "<Figure size 640x480 with 1 Axes>"
      ]
     },
     "metadata": {},
     "output_type": "display_data"
    }
   ],
   "source": [
    "import matplotlib.pyplot as plt\n",
    "\n",
    "fig, ax = plt.subplots()\n",
    "\n",
    "ax.plot(c_rewards_social[:2000], label=\"social\")\n",
    "ax.plot(c_rewards_casual[:2000], label=\"casual\")\n",
    "\n",
    "# ax.plot(agents[0].betas, label=\"beta\")\n",
    "# ax.plot(agents[0].epsilons, label=\"epsilon\")\n",
    "\n",
    "# Set the title and labels\n",
    "ax.set_title(\"Reward of random policy and epsilon greedy policy\")\n",
    "ax.set_xlabel(\"Trial\")\n",
    "ax.set_ylabel(\"Reward\")\n",
    "# Show the plot\n",
    "plt.legend()\n",
    "\n",
    "plt.savefig(\"plots/social-mobile.png\")\n",
    "\n",
    "plt.show()"
   ]
  }
 ],
 "metadata": {
  "kernelspec": {
   "display_name": "Python 3",
   "language": "python",
   "name": "python3"
  },
  "language_info": {
   "codemirror_mode": {
    "name": "ipython",
    "version": 3
   },
   "file_extension": ".py",
   "mimetype": "text/x-python",
   "name": "python",
   "nbconvert_exporter": "python",
   "pygments_lexer": "ipython3",
   "version": "3.11.2"
  }
 },
 "nbformat": 4,
 "nbformat_minor": 2
}
